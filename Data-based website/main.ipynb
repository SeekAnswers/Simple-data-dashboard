{
 "cells": [
  {
   "cell_type": "markdown",
   "metadata": {},
   "source": [
    "1)Importing needed libraries - Streamlit, Pandas and Matplotlib"
   ]
  },
  {
   "cell_type": "code",
   "execution_count": 2,
   "metadata": {},
   "outputs": [],
   "source": [
    "import streamlit as st\n",
    "import pandas as pd\n",
    "import matplotlib.pyplot as plt\n"
   ]
  },
  {
   "cell_type": "markdown",
   "metadata": {},
   "source": [
    "2) Creating title for application"
   ]
  },
  {
   "cell_type": "code",
   "execution_count": null,
   "metadata": {},
   "outputs": [],
   "source": [
    "st.title(\"Seek Answers Simple Data dashboard\")"
   ]
  },
  {
   "cell_type": "markdown",
   "metadata": {},
   "source": [
    "3) Creating a file upload button or window"
   ]
  },
  {
   "cell_type": "code",
   "execution_count": null,
   "metadata": {},
   "outputs": [],
   "source": [
    "uploaded_file = st.file_uploader('Choose a CSV file', type = 'csv')\n",
    "\n",
    "#Let's explore how this works in the backend\n",
    "if uploaded_file is not None:\n",
    "    #st.write('File uploaded...') #Anytime user uploads a file, entire script would be rerun\n",
    "    df = pd.read_csv(uploaded_file) #If we want to read this in as a Pandas dataframe and write the Pandas dataframe\n",
    "    "
   ]
  },
  {
   "cell_type": "markdown",
   "metadata": {},
   "source": [
    "4)Display a subtitle"
   ]
  },
  {
   "cell_type": "code",
   "execution_count": null,
   "metadata": {},
   "outputs": [],
   "source": [
    "    st.subheader('Data Preview')\n"
   ]
  },
  {
   "cell_type": "markdown",
   "metadata": {},
   "source": [
    "5)Now to writing the dataframe"
   ]
  },
  {
   "cell_type": "code",
   "execution_count": null,
   "metadata": {},
   "outputs": [],
   "source": [
    "    st.write(df.head())"
   ]
  },
  {
   "cell_type": "markdown",
   "metadata": {},
   "source": [
    "6)We can have/make a summary of the data"
   ]
  },
  {
   "cell_type": "code",
   "execution_count": null,
   "metadata": {},
   "outputs": [],
   "source": [
    "    st.subheader('Data Summary')\n",
    "    st.write(df.describe())"
   ]
  },
  {
   "cell_type": "markdown",
   "metadata": {},
   "source": [
    "7)Filtering the data"
   ]
  },
  {
   "cell_type": "code",
   "execution_count": null,
   "metadata": {},
   "outputs": [],
   "source": [
    "    st.subheader('Filter Data')\n",
    "    #Here, let's pass in some widgets the user could interact with\n",
    "    #So, one can gather the unique columns available\n",
    "    columns = df.columns.tolist()\n",
    "    selected_column = st.selectbox('select column to filter by', columns) #st.selectbox gives us a dropdown list of all the values we pass to\n",
    "    #The unique values from the selected column can be grabbed\n",
    "    unique_values = df[selected_column].unique() #with this we can select a value within a column and grab all of the different rows that match the value\n",
    "    selected_value = st.selectbox('Select value', unique_values)\n"
   ]
  },
  {
   "cell_type": "markdown",
   "metadata": {},
   "source": [
    "8)Next, we can display the filtered data and plot it on screen"
   ]
  },
  {
   "cell_type": "code",
   "execution_count": null,
   "metadata": {},
   "outputs": [],
   "source": [
    "    #filtered_df = df[selected_value].plot.line  #I wonder what this does\n",
    "    filtered_df = df[df[selected_column] == selected_value] #This is grabbing all of the rows where the dataframe at the selected column is equal to the selected value\n",
    "    st.write(filtered_df) #write   can as well do the displaying on streamlit"
   ]
  },
  {
   "cell_type": "markdown",
   "metadata": {},
   "source": [
    "9)Now to making a plot"
   ]
  },
  {
   "cell_type": "code",
   "execution_count": null,
   "metadata": {},
   "outputs": [],
   "source": [
    "    st.subheader('Plot Data')\n",
    "    #We would then select the x and y column we want to plot\n",
    "    x_column = st.selectbox('Select x-axis column', columns)\n",
    "    y_column = st.selectbox('Select y-axis column', columns)\n",
    "\n",
    "    #So a button can be generated for selection of what parameter(s)/variable(s) that would occupy the x and y-axis\n",
    "    if st.button('Generate Plot'):\n",
    "        st.line_chart(filtered_df.set_index(x_column) [y_column])\n",
    "\n",
    "else:\n",
    "    st.write('Waiting on file upload...')"
   ]
  },
  {
   "cell_type": "markdown",
   "metadata": {},
   "source": []
  }
 ],
 "metadata": {
  "kernelspec": {
   "display_name": "Python 3",
   "language": "python",
   "name": "python3"
  },
  "language_info": {
   "codemirror_mode": {
    "name": "ipython",
    "version": 3
   },
   "file_extension": ".py",
   "mimetype": "text/x-python",
   "name": "python",
   "nbconvert_exporter": "python",
   "pygments_lexer": "ipython3",
   "version": "3.12.4"
  }
 },
 "nbformat": 4,
 "nbformat_minor": 2
}
